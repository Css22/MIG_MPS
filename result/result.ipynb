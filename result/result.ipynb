{
 "cells": [
  {
   "cell_type": "code",
   "execution_count": 20,
   "metadata": {},
   "outputs": [
    {
     "name": "stdout",
     "output_type": "stream",
     "text": [
      "0.7342460615153789 0.6869747899159664\n"
     ]
    }
   ],
   "source": [
    "base = {\n",
    "    'bert' : 65,\n",
    "    'resnet' : 14.7,\n",
    "    'unet': 25,\n",
    "    'transformer': 55\n",
    "}\n",
    "\n",
    "MPS_without_turing = {\n",
    "    'bert' : 233,\n",
    "    'resnet' : 204,\n",
    "    'unet': 112,\n",
    "    'transformer': 90\n",
    "}\n",
    "\n",
    "MPS_with_turing = {\n",
    "\n",
    "}\n",
    "\n",
    "\n",
    "\n",
    "MIG_with_turing = {\n",
    "\n",
    "}\n",
    "\n",
    "\n",
    "\n",
    "\n",
    "system_throught = 0\n",
    "for i in base.keys():\n",
    "    pass\n",
    "\n",
    "\n",
    "\n",
    "print(25/86 + 55/124, 25/85 + 55/140)\n"
   ]
  },
  {
   "cell_type": "code",
   "execution_count": null,
   "metadata": {},
   "outputs": [],
   "source": []
  }
 ],
 "metadata": {
  "kernelspec": {
   "display_name": "Abacus",
   "language": "python",
   "name": "python3"
  },
  "language_info": {
   "codemirror_mode": {
    "name": "ipython",
    "version": 3
   },
   "file_extension": ".py",
   "mimetype": "text/x-python",
   "name": "python",
   "nbconvert_exporter": "python",
   "pygments_lexer": "ipython3",
   "version": "3.8.16"
  }
 },
 "nbformat": 4,
 "nbformat_minor": 2
}
